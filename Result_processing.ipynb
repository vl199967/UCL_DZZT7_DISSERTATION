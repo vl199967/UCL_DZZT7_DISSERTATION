{
  "cells": [
    {
      "cell_type": "markdown",
      "source": [
        "1. Importing all utilities and libraries"
      ],
      "metadata": {
        "id": "kqItBkQC7u2t"
      }
    },
    {
      "cell_type": "code",
      "execution_count": null,
      "metadata": {
        "id": "4wqGRXCYy2M5"
      },
      "outputs": [],
      "source": [
        "import numpy as np\n",
        "import pandas as pd\n",
        "import tensorflow as tf\n",
        "import json\n",
        "import re"
      ]
    },
    {
      "cell_type": "markdown",
      "source": [
        "2. Opening the json files containing the segmentation information 500 images (entries) at a time"
      ],
      "metadata": {
        "id": "-yNNoTUz7TWu"
      }
    },
    {
      "cell_type": "code",
      "execution_count": null,
      "metadata": {
        "colab": {
          "background_save": true
        },
        "id": "5xTd3CcOzCW6"
      },
      "outputs": [],
      "source": [
        "f500 = open('/content/drive/MyDrive/DISSERTATION/small_500.json')\n",
        "data500 = json.load(f500)\n",
        "\n",
        "f1000 = open('/content/drive/MyDrive/DISSERTATION/small_1000.json')\n",
        "data1000 = json.load(f1000)\n",
        "\n",
        "f1500 = open('/content/drive/MyDrive/DISSERTATION/small_1500.json')\n",
        "data1500 = json.load(f1500)\n",
        "\n",
        "f2000 = open('/content/drive/MyDrive/DISSERTATION/small_2000.json')\n",
        "data2000 = json.load(f2000)\n",
        "\n",
        "f2500 = open('/content/drive/MyDrive/DISSERTATION/small_2500.json')\n",
        "data2500 = json.load(f2500)\n",
        "\n",
        "f3000 = open('/content/drive/MyDrive/DISSERTATION/small_3000.json')\n",
        "data3000 = json.load(f3000)\n",
        "\n",
        "f3500 = open('/content/drive/MyDrive/DISSERTATION/small_3500.json')\n",
        "data3500 = json.load(f3500)\n",
        "\n",
        "f3600 = open('/content/drive/MyDrive/DISSERTATION/small_rest.json')\n",
        "data3600 = json.load(f3600)\n"
      ]
    },
    {
      "cell_type": "markdown",
      "source": [
        "3. From the Image Segmentation results, calculate the follow indexes: Walkability, Green View Index, Motorization and Enclosre"
      ],
      "metadata": {
        "id": "mSvqEbBm7e78"
      }
    },
    {
      "cell_type": "code",
      "execution_count": null,
      "metadata": {
        "id": "rK945Ah93f33"
      },
      "outputs": [],
      "source": [
        "labels = {0: 'road',\n",
        " 1: 'sidewalk',\n",
        " 2: 'building',\n",
        " 3: 'wall',\n",
        " 4: 'fence',\n",
        " 5: 'pole',\n",
        " 6: 'traffic light',\n",
        " 7: 'traffic sign',\n",
        " 8: 'vegetation',\n",
        " 9: 'terrain',\n",
        " 10: 'sky',\n",
        " 11: 'person',\n",
        " 12: 'rider',\n",
        " 13: 'car',\n",
        " 14: 'truck',\n",
        " 15: 'bus',\n",
        " 16: 'train',\n",
        " 17: 'motorcycle',\n",
        " 18: 'bicycle'}\n",
        "\n",
        "pattern = r\"^(\\d+)_(\\d+\\.\\d+)_(\\d+\\.\\d+)_(\\d+)\\.jpg(\\d+)\\.jpg$\"\n",
        "\n",
        "walkability = [1,9,11]\n",
        "\n",
        "motorization = [0,13,14,15,16,17]\n",
        "\n",
        "greenery = [8,9]\n",
        "\n",
        "enclosure_numerator = [2,3,4,8]\n",
        "\n",
        "enclosure_denominator = [0,1,9,10]\n",
        "\n",
        "def calculate_index(dataset):\n",
        "\n",
        "  for item in dataset:\n",
        "    match = re.match(pattern, item['filename'])\n",
        "    if match:\n",
        "      item['id'] = match.group(1)\n",
        "      item['latitude'] = match.group(2)\n",
        "      item['longitude'] = match.group(3)\n",
        "      item['angle'] = match.group(5)\n",
        "\n",
        "    arr = np.array(item['segmentaion'])\n",
        "    arr = arr.flatten()\n",
        "    item['segmentaion'] = arr\n",
        "\n",
        "    unique_numbers, counts = np.unique(arr, return_counts=True)\n",
        "\n",
        "    walkability_counts = counts[np.isin(unique_numbers, walkability)]\n",
        "    walkability_sum = np.sum(walkability_counts)\n",
        "    item['walkability_index'] = walkability_sum / arr.size\n",
        "\n",
        "    greenery_counts = counts[np.isin(unique_numbers, greenery)]\n",
        "    greenery_sum = np.sum(greenery_counts)\n",
        "    item['greenery_index'] = greenery_sum / arr.size\n",
        "\n",
        "    motorization_counts = counts[np.isin(unique_numbers, motorization)]\n",
        "    motorization_sum = np.sum(motorization_counts)\n",
        "    item['motorization_index'] = motorization_sum / arr.size\n",
        "\n",
        "    enclosure_numer = counts[np.isin(unique_numbers, enclosure_numerator)]\n",
        "    enclosure_numer_sum = np.sum(enclosure_numer)\n",
        "    enclosure_deno = counts[np.isin(unique_numbers, enclosure_denominator)]\n",
        "    enclosure_deno_sum = np.sum(enclosure_deno)\n",
        "    item['enclosure_index'] = enclosure_numer_sum / enclosure_deno_sum\n",
        "\n",
        "  selected_keys = [\"id\", \"latitude\", \"longitude\", \"angle\", \"walkability_index\", \"greenery_index\", \"motorization_index\", \"enclosure_index\" ]\n",
        "\n",
        "  filtered_data = [{key: d[key] for key in selected_keys if key in d} for d in data500]\n",
        "\n",
        "  df = pd.DataFrame(filtered_data)\n",
        "\n",
        "  return df\n",
        "\n"
      ]
    },
    {
      "cell_type": "code",
      "execution_count": null,
      "metadata": {
        "colab": {
          "base_uri": "https://localhost:8080/"
        },
        "id": "R4s4Z7xD743m",
        "outputId": "93688098-536c-4b93-d144-b105495319d9"
      },
      "outputs": [
        {
          "name": "stdout",
          "output_type": "stream",
          "text": [
            "1875_4.859959425490000_52.342861646099998_201406.jpg270.jpg\n"
          ]
        },
        {
          "data": {
            "text/plain": [
              "0.8602417695473251"
            ]
          },
          "execution_count": 72,
          "metadata": {},
          "output_type": "execute_result"
        }
      ],
      "source": [
        "print(data500[250]['filename'])\n",
        "data500[250]['motorization_index']"
      ]
    },
    {
      "cell_type": "code",
      "execution_count": null,
      "metadata": {
        "id": "m9xOPmUzTH4W"
      },
      "outputs": [],
      "source": [
        "first500 = calculate_index(data500)\n",
        "first1000 = calculate_index(data1000)\n",
        "first1500 = calculate_index(data1500)\n",
        "first2000 = calculate_index(data2000)\n",
        "first2500 = calculate_index(data2500)\n",
        "first3000 = calculate_index(data3000)\n",
        "first3500 = calculate_index(data3500)\n",
        "first3600 = calculate_index(data3600)"
      ]
    },
    {
      "cell_type": "markdown",
      "source": [
        "4. Export the results as a CSV spreadsheet"
      ],
      "metadata": {
        "id": "mUVJIh_-7_M5"
      }
    },
    {
      "cell_type": "code",
      "execution_count": null,
      "metadata": {
        "id": "PSXw6lK0TSyI"
      },
      "outputs": [],
      "source": [
        "final_csv = pd.concat([first500,first1000,first1500,first2000,first2500,first3000,first3500,first3600])\n",
        "final_csv = final_csv.drop('angle', axis=1)\n",
        "aggregation_dict = {\n",
        "    \"latitude\": \"first\",\n",
        "    \"longitude\": \"first\",\n",
        "    \"walkability_index\":\"mean\",\n",
        "    \"greenery_index\":\"mean\",\n",
        "    \"motorization_index\":\"mean\",\n",
        "    \"enclosure_index\":\"mean\"\n",
        "}\n",
        "final_csv = final_csv.groupby(\"id\", as_index=False).agg(aggregation_dict).reset_index()\n",
        "final_csv.to_csv(\"index.csv\", index=False)"
      ]
    }
  ],
  "metadata": {
    "accelerator": "GPU",
    "colab": {
      "gpuType": "A100",
      "toc_visible": true,
      "provenance": []
    },
    "kernelspec": {
      "display_name": "Python 3",
      "name": "python3"
    },
    "language_info": {
      "name": "python"
    }
  },
  "nbformat": 4,
  "nbformat_minor": 0
}